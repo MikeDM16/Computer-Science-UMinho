{
 "cells": [
  {
   "cell_type": "code",
   "execution_count": 1,
   "metadata": {},
   "outputs": [
    {
     "name": "stdout",
     "output_type": "stream",
     "text": [
      "Populating the interactive namespace from numpy and matplotlib\n"
     ]
    }
   ],
   "source": [
    "%pylab inline"
   ]
  },
  {
   "cell_type": "code",
   "execution_count": 2,
   "metadata": {},
   "outputs": [
    {
     "name": "stdout",
     "output_type": "stream",
     "text": [
      " Volume in drive C has no label.\n",
      " Volume Serial Number is 74A7-AC0F\n",
      "\n",
      " Directory of C:\\Users\\migue\\Desktop\\4º Ano\\CG Visão por Computador\\TPC1\\DRIVE\\DRIVE\\training\\images\n",
      "\n",
      "28/09/2017  10:39    <DIR>          .\n",
      "28/09/2017  10:39    <DIR>          ..\n",
      "28/09/2017  10:39    <DIR>          .ipynb_checkpoints\n",
      "18/02/2015  11:34           758 672 21_training.tif\n",
      "18/02/2015  11:34           751 306 22_training.tif\n",
      "18/02/2015  11:34           654 844 23_training.tif\n",
      "18/02/2015  11:34           695 020 24_training.tif\n",
      "18/02/2015  11:34           722 436 25_training.tif\n",
      "18/02/2015  11:34           701 824 26_training.tif\n",
      "18/02/2015  11:34           730 206 27_training.tif\n",
      "18/02/2015  11:34           754 614 28_training.tif\n",
      "18/02/2015  11:34           739 372 29_training.tif\n",
      "18/02/2015  11:34           703 530 30_training.tif\n",
      "18/02/2015  11:34           773 854 31_training.tif\n",
      "18/02/2015  11:34           739 210 32_training.tif\n",
      "18/02/2015  11:34           757 826 33_training.tif\n",
      "18/02/2015  11:34           818 982 34_training.tif\n",
      "18/02/2015  11:34           798 744 35_training.tif\n",
      "18/02/2015  11:34           747 538 36_training.tif\n",
      "18/02/2015  11:34           784 176 37_training.tif\n",
      "18/02/2015  11:34           730 086 38_training.tif\n",
      "18/02/2015  11:34           749 418 39_training.tif\n",
      "18/02/2015  11:34           692 866 40_training.tif\n",
      "28/09/2017  10:39                72 Untitled.ipynb\n",
      "              21 File(s)     14 804 596 bytes\n",
      "               3 Dir(s)  147 899 666 432 bytes free\n"
     ]
    }
   ],
   "source": [
    "ls"
   ]
  },
  {
   "cell_type": "code",
   "execution_count": null,
   "metadata": {
    "collapsed": true
   },
   "outputs": [],
   "source": [
    "image = "
   ]
  }
 ],
 "metadata": {
  "kernelspec": {
   "display_name": "Python 3",
   "language": "python",
   "name": "python3"
  },
  "language_info": {
   "codemirror_mode": {
    "name": "ipython",
    "version": 3
   },
   "file_extension": ".py",
   "mimetype": "text/x-python",
   "name": "python",
   "nbconvert_exporter": "python",
   "pygments_lexer": "ipython3",
   "version": "3.6.1"
  }
 },
 "nbformat": 4,
 "nbformat_minor": 2
}
